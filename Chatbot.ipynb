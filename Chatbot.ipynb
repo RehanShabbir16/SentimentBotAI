{
  "nbformat": 4,
  "nbformat_minor": 0,
  "metadata": {
    "colab": {
      "provenance": [],
      "authorship_tag": "ABX9TyOYEDVMBxF11nsGMKub3Fq4",
      "include_colab_link": true
    },
    "kernelspec": {
      "name": "python3",
      "display_name": "Python 3"
    },
    "language_info": {
      "name": "python"
    }
  },
  "cells": [
    {
      "cell_type": "markdown",
      "metadata": {
        "id": "view-in-github",
        "colab_type": "text"
      },
      "source": [
        "<a href=\"https://colab.research.google.com/github/RehanShabbir16/SentimentBotAI/blob/main/Chatbot.ipynb\" target=\"_parent\"><img src=\"https://colab.research.google.com/assets/colab-badge.svg\" alt=\"Open In Colab\"/></a>"
      ]
    },
    {
      "cell_type": "code",
      "execution_count": 21,
      "metadata": {
        "id": "s79hMPMqkNI9"
      },
      "outputs": [],
      "source": [
        "def chatBot(user_txt):\n",
        "  user=user_txt.lower()\n",
        "  user_input=user.strip()\n",
        "  sentiment_words = {\n",
        "        \"happy\": [\n",
        "            \"joyful\", \"happy\", \"cheerful\", \"elated\", \"ecstatic\", \"content\", \"delighted\", \"gleeful\", \"upbeat\",\n",
        "            \"jubilant\", \"merry\", \"euphoric\", \"blissful\", \"radiant\", \"exuberant\", \"smiling\", \"grinning\",\n",
        "            \"lively\", \"vibrant\", \"overjoyed\", \"thrilled\", \"buoyant\", \"sunny\", \"optimistic\", \"festive\"\n",
        "        ],\n",
        "        \"sad\": [\n",
        "            \"depressed\", \"heartbroken\", \"gloomy\", \"melancholy\", \"sorrowful\", \"miserable\", \"desolate\",\n",
        "            \"unhappy\", \"dismal\", \"tearful\", \"despairing\", \"wretched\", \"tragic\", \"forlorn\", \"disheartened\",\n",
        "            \"lonely\", \"downcast\", \"regretful\", \"anguished\", \"mournful\", \"hopeless\", \"grief-stricken\",\n",
        "            \"painful\", \"woeful\", \"crestfallen\"\n",
        "        ],\n",
        "        \"angry\": [\n",
        "            \"angry\", \"furious\", \"outraged\", \"irate\", \"enraged\", \"indignant\", \"annoyed\", \"irritated\",\n",
        "            \"agitated\", \"resentful\", \"hostile\", \"incensed\", \"livid\", \"rage\", \"fuming\", \"exasperated\",\n",
        "            \"temperamental\", \"frustrated\", \"infuriated\"\n",
        "        ],\n",
        "        \"surprised\": [\n",
        "            \"surprised\", \"astonished\", \"amazed\", \"shocked\", \"stunned\", \"dumbfounded\", \"flabbergasted\",\n",
        "            \"startled\", \"awe-struck\", \"bewildered\", \"perplexed\", \"disbelief\"\n",
        "        ],\n",
        "        \"neutral\": [\n",
        "            \"neutral\", \"indifferent\", \"apathetic\", \"uninterested\", \"detached\", \"unemotional\", \"dispassionate\",\n",
        "            \"reserved\", \"nonchalant\"\n",
        "        ],\n",
        "        \"fearful\": [\n",
        "            \"fearful\", \"anxious\", \"nervous\", \"worried\", \"apprehensive\", \"terrified\", \"panicked\", \"scared\",\n",
        "            \"dreadful\", \"frightened\", \"jittery\", \"tense\"\n",
        "        ],\n",
        "        \"disgusted\": [\n",
        "            \"disgusted\", \"revolted\", \"nauseated\", \"repulsed\", \"abhorrent\", \"sickened\", \"outraged\", \"offended\"\n",
        "        ]\n",
        "    }\n",
        "\n",
        "  sentiment_responses = {\n",
        "        \"happy\": \"That's great to hear!\",\n",
        "        \"sad\": \"I'm here if you need someone to talk to.\",\n",
        "        \"angry\": \"Take a deep breath and try to stay calm.\",\n",
        "        \"surprised\": \"Wow, that's unexpected!\",\n",
        "        \"neutral\": \"I see. How can I assist you?\",\n",
        "        \"fearful\": \"It's okay to feel scared. Try to focus on something positive.\",\n",
        "        \"disgusted\": \"I understand. Let's move on to a different topic.\"\n",
        "    }\n",
        "  for sentiment, words in sentiment_words.items():\n",
        "        if any(word in user_input for word in words):\n",
        "            return sentiment_responses[sentiment]"
      ]
    },
    {
      "cell_type": "code",
      "source": [
        "while True:\n",
        "  user_input=input(\"enter text  :  \")\n",
        "  if user_input=='x':\n",
        "    break\n",
        "  else:\n",
        "    print(chatBot(user_input))"
      ],
      "metadata": {
        "colab": {
          "base_uri": "https://localhost:8080/"
        },
        "id": "zSxJMDZgmLkY",
        "outputId": "a293aaa3-78b8-4f73-b1bd-c5e5f02cf4a6"
      },
      "execution_count": 23,
      "outputs": [
        {
          "name": "stdout",
          "output_type": "stream",
          "text": [
            "enter text  :  \"Upon hearing the news of the loss, a wave of sadness enveloped me, leaving me feeling melancholy and desolate.\n",
            "I'm here if you need someone to talk to.\n",
            "enter text  :  x\n"
          ]
        }
      ]
    },
    {
      "cell_type": "code",
      "source": [
        "a"
      ],
      "metadata": {
        "id": "ilBvtxBWm2MJ"
      },
      "execution_count": null,
      "outputs": []
    },
    {
      "cell_type": "code",
      "source": [],
      "metadata": {
        "id": "CRva0Wijonl4"
      },
      "execution_count": null,
      "outputs": []
    }
  ]
}